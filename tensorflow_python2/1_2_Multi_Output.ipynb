{
  "nbformat": 4,
  "nbformat_minor": 0,
  "metadata": {
    "colab": {
      "name": "1_2_Multi_Output.ipynb",
      "provenance": [],
      "authorship_tag": "ABX9TyOlG+Lflfmzxq/Cly2lQy7n",
      "include_colab_link": true
    },
    "kernelspec": {
      "name": "python3",
      "display_name": "Python 3"
    },
    "language_info": {
      "name": "python"
    }
  },
  "cells": [
    {
      "cell_type": "markdown",
      "metadata": {
        "id": "view-in-github",
        "colab_type": "text"
      },
      "source": [
        "<a href=\"https://colab.research.google.com/github/innosoft21/Mastering-Machine-Learning-with-scikit-learn-Second-Edition/blob/master/tensorflow_python2/1_2_Multi_Output.ipynb\" target=\"_parent\"><img src=\"https://colab.research.google.com/assets/colab-badge.svg\" alt=\"Open In Colab\"/></a>"
      ]
    },
    {
      "cell_type": "markdown",
      "metadata": {
        "id": "KOcjBwpueCxH"
      },
      "source": [
        "Multi-output Model\n",
        "\n",
        "두 개 이상의 출력으로 모델을 제작하는 방법을 보여드리겠습니다. \n",
        "\n",
        "우리가 연구할 데이터 세트는 UCI 기계 학습 저장소에서 이용할 수 있다. \n",
        "\n",
        "이 데이터 세트는 구성물 (예: 벽면 영역, 지붕 영역)을 입력으로 사용하고 두 가지 출력(냉각 부하 및 난방 부하)을 갖는 에너지 효율 데이터 세트입니다. "
      ]
    },
    {
      "cell_type": "code",
      "metadata": {
        "id": "EXruaPoNd7-V"
      },
      "source": [
        "try:\n",
        "  # %tensorflow_version only exists in Colab.\n",
        "  %tensorflow_version 2.x\n",
        "except Exception:\n",
        "  pass\n",
        "\n",
        "import tensorflow as tf\n",
        "import numpy as np\n",
        "import matplotlib.pyplot as plt\n",
        "import pandas as pd\n",
        "from tensorflow.keras.models import Model\n",
        "from tensorflow.keras.layers import Dense, Input\n",
        "from sklearn.model_selection import train_test_split"
      ],
      "execution_count": 1,
      "outputs": []
    },
    {
      "cell_type": "markdown",
      "metadata": {
        "id": "TXu2etLpevym"
      },
      "source": [
        "Utilities\n",
        "\n",
        "우리는 코드를 보다 깔끔하게 만들기 위해 데이터 변환 및 시각화를 위한 몇 가지 유틸리티를 정의한다."
      ]
    },
    {
      "cell_type": "code",
      "metadata": {
        "id": "PFMqQKq7esof"
      },
      "source": [
        "def format_output(data):\n",
        "    y1 = data.pop('Y1')\n",
        "    y1 = np.array(y1)\n",
        "    y2 = data.pop('Y2')\n",
        "    y2 = np.array(y2)\n",
        "    return y1, y2\n",
        "\n",
        "\n",
        "def norm(x):\n",
        "    return (x - train_stats['mean']) / train_stats['std']\n",
        "\n",
        "\n",
        "def plot_diff(y_true, y_pred, title=''):\n",
        "    plt.scatter(y_true, y_pred)\n",
        "    plt.title(title)\n",
        "    plt.xlabel('True Values')\n",
        "    plt.ylabel('Predictions')\n",
        "    plt.axis('equal')\n",
        "    plt.axis('square')\n",
        "    plt.xlim(plt.xlim())\n",
        "    plt.ylim(plt.ylim())\n",
        "    plt.plot([-100, 100], [-100, 100])\n",
        "    plt.show()\n",
        "\n",
        "\n",
        "def plot_metrics(metric_name, title, ylim=5):\n",
        "    plt.title(title)\n",
        "    plt.ylim(0, ylim)\n",
        "    plt.plot(history.history[metric_name], color='blue', label=metric_name)\n",
        "    plt.plot(history.history['val_' + metric_name], color='green', label='val_' + metric_name)\n",
        "    plt.show()"
      ],
      "execution_count": 2,
      "outputs": []
    },
    {
      "cell_type": "markdown",
      "metadata": {
        "id": "TKHdgE_Ue36r"
      },
      "source": [
        "Prepare the Data\n",
        "\n",
        "우리는 데이터 세트를 다운로드하고 훈련을 위해 포맷한다."
      ]
    },
    {
      "cell_type": "code",
      "metadata": {
        "id": "CMxtQCfte_GS"
      },
      "source": [
        "# Specify data URI\n",
        "URI = './data/ENB2012_data.xlsx'\n",
        "\n",
        "# Use pandas excel reader\n",
        "df = pd.read_excel(URI)\n",
        "df = df.sample(frac=1).reset_index(drop=True)\n",
        "\n",
        "# Split the data into train and test with 80 train / 20 test\n",
        "train, test = train_test_split(df, test_size=0.2)\n",
        "train_stats = train.describe()\n",
        "\n",
        "# Get Y1 and Y2 as the 2 outputs and format them as np arrays\n",
        "train_stats.pop('Y1')\n",
        "train_stats.pop('Y2')\n",
        "train_stats = train_stats.transpose()\n",
        "train_Y = format_output(train)\n",
        "test_Y = format_output(test)\n",
        "\n",
        "# Normalize the training and test data\n",
        "norm_train_X = norm(train)\n",
        "norm_test_X = norm(test)"
      ],
      "execution_count": null,
      "outputs": []
    },
    {
      "cell_type": "markdown",
      "metadata": {
        "id": "YMxaKYEpfBe_"
      },
      "source": [
        "Build the Model\n",
        "\n",
        "다음은 기능 구문을 사용하여 모델을 작성하는 방법입니다. model() 클래스를 인스턴스화할 때 출력 목록(예: [y1_output, y2_output])을 지정할 수 있습니다."
      ]
    },
    {
      "cell_type": "code",
      "metadata": {
        "id": "TXx5IdmyfA7S"
      },
      "source": [
        "# Define model layers.\n",
        "input_layer = Input(shape=(len(train .columns),))\n",
        "first_dense = Dense(units='128', activation='relu')(input_layer)\n",
        "second_dense = Dense(units='128', activation='relu')(first_dense)\n",
        "\n",
        "# Y1 output will be fed directly from the second dense\n",
        "y1_output = Dense(units='1', name='y1_output')(second_dense)\n",
        "third_dense = Dense(units='64', activation='relu')(second_dense)\n",
        "\n",
        "# Y2 output will come via the third dense\n",
        "y2_output = Dense(units='1', name='y2_output')(third_dense)\n",
        "\n",
        "# Define the model with the input layer and a list of output layers\n",
        "model = Model(inputs=input_layer, outputs=[y1_output, y2_output])\n",
        "\n",
        "print(model.summary())"
      ],
      "execution_count": null,
      "outputs": []
    },
    {
      "cell_type": "markdown",
      "metadata": {
        "id": "vOH9NnVDfOCT"
      },
      "source": [
        "Configure parameters\n",
        "\n",
        "각 출력에 대한 loss 및 metric뿐만 아니라 optimizer도 지정합니다."
      ]
    },
    {
      "cell_type": "code",
      "metadata": {
        "id": "l3ruz0G4fadH"
      },
      "source": [
        "# Specify the optimizer, and compile the model with loss functions for both outputs\n",
        "optimizer = tf.keras.optimizers.SGD(lr=0.001)\n",
        "model.compile(optimizer=optimizer,\n",
        "              loss={'y1_output': 'mse', 'y2_output': 'mse'},\n",
        "              metrics={'y1_output': tf.keras.metrics.RootMeanSquaredError(),\n",
        "                       'y2_output': tf.keras.metrics.RootMeanSquaredError()})"
      ],
      "execution_count": null,
      "outputs": []
    },
    {
      "cell_type": "markdown",
      "metadata": {
        "id": "i_Me0fnCfcvz"
      },
      "source": [
        "Train the Model"
      ]
    },
    {
      "cell_type": "code",
      "metadata": {
        "id": "kw2KsYoqfgpQ"
      },
      "source": [
        "# Train the model for 500 epochs\n",
        "history = model.fit(norm_train_X, train_Y,\n",
        "                    epochs=500, batch_size=10, validation_data=(norm_test_X, test_Y))"
      ],
      "execution_count": null,
      "outputs": []
    },
    {
      "cell_type": "markdown",
      "metadata": {
        "id": "6xOHrTyxfhUM"
      },
      "source": [
        "Evaluate the Model and Plot Metrics"
      ]
    },
    {
      "cell_type": "code",
      "metadata": {
        "id": "0Gk-swmhfj-T"
      },
      "source": [
        "# Test the model and print loss and mse for both outputs\n",
        "loss, Y1_loss, Y2_loss, Y1_rmse, Y2_rmse = model.evaluate(x=norm_test_X, y=test_Y)\n",
        "print(\"Loss = {}, Y1_loss = {}, Y1_mse = {}, Y2_loss = {}, Y2_mse = {}\".format(loss, Y1_loss, Y1_rmse, Y2_loss, Y2_rmse))"
      ],
      "execution_count": null,
      "outputs": []
    },
    {
      "cell_type": "code",
      "metadata": {
        "id": "bcEwaWXgfmAW"
      },
      "source": [
        "# Plot the loss and mse\n",
        "Y_pred = model.predict(norm_test_X)\n",
        "plot_diff(test_Y[0], Y_pred[0], title='Y1')\n",
        "plot_diff(test_Y[1], Y_pred[1], title='Y2')\n",
        "plot_metrics(metric_name='y1_output_root_mean_squared_error', title='Y1 RMSE', ylim=6)\n",
        "plot_metrics(metric_name='y2_output_root_mean_squared_error', title='Y2 RMSE', ylim=7)"
      ],
      "execution_count": null,
      "outputs": []
    }
  ]
}